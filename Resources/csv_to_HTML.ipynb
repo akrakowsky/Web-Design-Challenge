{
 "cells": [
  {
   "cell_type": "code",
   "execution_count": 22,
   "id": "7784bf6f",
   "metadata": {},
   "outputs": [],
   "source": [
    "import pandas as pd"
   ]
  },
  {
   "cell_type": "code",
   "execution_count": 34,
   "id": "61b07469",
   "metadata": {},
   "outputs": [
    {
     "data": {
      "text/plain": [
       "580"
      ]
     },
     "execution_count": 34,
     "metadata": {},
     "output_type": "execute_result"
    }
   ],
   "source": [
    "cities_df = pd.read_csv(\"Cities_Output.csv\").dropna()\n",
    "len(cities_df)"
   ]
  },
  {
   "cell_type": "code",
   "execution_count": 35,
   "id": "2238da1e",
   "metadata": {},
   "outputs": [
    {
     "data": {
      "text/html": [
       "<div>\n",
       "<style scoped>\n",
       "    .dataframe tbody tr th:only-of-type {\n",
       "        vertical-align: middle;\n",
       "    }\n",
       "\n",
       "    .dataframe tbody tr th {\n",
       "        vertical-align: top;\n",
       "    }\n",
       "\n",
       "    .dataframe thead th {\n",
       "        text-align: right;\n",
       "    }\n",
       "</style>\n",
       "<table border=\"1\" class=\"dataframe\">\n",
       "  <thead>\n",
       "    <tr style=\"text-align: right;\">\n",
       "      <th></th>\n",
       "      <th>Unnamed: 0</th>\n",
       "      <th>City</th>\n",
       "      <th>Lat</th>\n",
       "      <th>Lng</th>\n",
       "      <th>Max Temp</th>\n",
       "      <th>Humidity</th>\n",
       "      <th>Cloudiness</th>\n",
       "      <th>Wind Speed</th>\n",
       "      <th>Country</th>\n",
       "      <th>Date</th>\n",
       "    </tr>\n",
       "  </thead>\n",
       "  <tbody>\n",
       "    <tr>\n",
       "      <th>0</th>\n",
       "      <td>0</td>\n",
       "      <td>Cape Town</td>\n",
       "      <td>-33.9258</td>\n",
       "      <td>18.4232</td>\n",
       "      <td>57.11</td>\n",
       "      <td>93</td>\n",
       "      <td>90</td>\n",
       "      <td>1.01</td>\n",
       "      <td>ZA</td>\n",
       "      <td>1631425718</td>\n",
       "    </tr>\n",
       "    <tr>\n",
       "      <th>1</th>\n",
       "      <td>1</td>\n",
       "      <td>Dryden</td>\n",
       "      <td>49.7833</td>\n",
       "      <td>-92.7503</td>\n",
       "      <td>50.29</td>\n",
       "      <td>81</td>\n",
       "      <td>90</td>\n",
       "      <td>6.91</td>\n",
       "      <td>CA</td>\n",
       "      <td>1631426007</td>\n",
       "    </tr>\n",
       "    <tr>\n",
       "      <th>2</th>\n",
       "      <td>2</td>\n",
       "      <td>Torbay</td>\n",
       "      <td>47.6666</td>\n",
       "      <td>-52.7314</td>\n",
       "      <td>57.27</td>\n",
       "      <td>84</td>\n",
       "      <td>1</td>\n",
       "      <td>24.16</td>\n",
       "      <td>CA</td>\n",
       "      <td>1631426008</td>\n",
       "    </tr>\n",
       "    <tr>\n",
       "      <th>3</th>\n",
       "      <td>3</td>\n",
       "      <td>Rome</td>\n",
       "      <td>43.2128</td>\n",
       "      <td>-75.4557</td>\n",
       "      <td>70.84</td>\n",
       "      <td>78</td>\n",
       "      <td>40</td>\n",
       "      <td>1.01</td>\n",
       "      <td>US</td>\n",
       "      <td>1631426010</td>\n",
       "    </tr>\n",
       "    <tr>\n",
       "      <th>4</th>\n",
       "      <td>4</td>\n",
       "      <td>Busselton</td>\n",
       "      <td>-33.6500</td>\n",
       "      <td>115.3333</td>\n",
       "      <td>61.05</td>\n",
       "      <td>56</td>\n",
       "      <td>12</td>\n",
       "      <td>6.22</td>\n",
       "      <td>AU</td>\n",
       "      <td>1631426011</td>\n",
       "    </tr>\n",
       "  </tbody>\n",
       "</table>\n",
       "</div>"
      ],
      "text/plain": [
       "   Unnamed: 0       City      Lat       Lng  Max Temp  Humidity  Cloudiness  \\\n",
       "0           0  Cape Town -33.9258   18.4232     57.11        93          90   \n",
       "1           1     Dryden  49.7833  -92.7503     50.29        81          90   \n",
       "2           2     Torbay  47.6666  -52.7314     57.27        84           1   \n",
       "3           3       Rome  43.2128  -75.4557     70.84        78          40   \n",
       "4           4  Busselton -33.6500  115.3333     61.05        56          12   \n",
       "\n",
       "   Wind Speed Country        Date  \n",
       "0        1.01      ZA  1631425718  \n",
       "1        6.91      CA  1631426007  \n",
       "2       24.16      CA  1631426008  \n",
       "3        1.01      US  1631426010  \n",
       "4        6.22      AU  1631426011  "
      ]
     },
     "execution_count": 35,
     "metadata": {},
     "output_type": "execute_result"
    }
   ],
   "source": [
    "cities_df.head()"
   ]
  },
  {
   "cell_type": "code",
   "execution_count": 25,
   "id": "2627ee6d",
   "metadata": {},
   "outputs": [],
   "source": [
    "cities_df.to_html(\"cities.html\")"
   ]
  },
  {
   "cell_type": "code",
   "execution_count": null,
   "id": "cb9cd552",
   "metadata": {},
   "outputs": [],
   "source": []
  }
 ],
 "metadata": {
  "kernelspec": {
   "display_name": "Python 3",
   "language": "python",
   "name": "python3"
  },
  "language_info": {
   "codemirror_mode": {
    "name": "ipython",
    "version": 3
   },
   "file_extension": ".py",
   "mimetype": "text/x-python",
   "name": "python",
   "nbconvert_exporter": "python",
   "pygments_lexer": "ipython3",
   "version": "3.8.8"
  }
 },
 "nbformat": 4,
 "nbformat_minor": 5
}
